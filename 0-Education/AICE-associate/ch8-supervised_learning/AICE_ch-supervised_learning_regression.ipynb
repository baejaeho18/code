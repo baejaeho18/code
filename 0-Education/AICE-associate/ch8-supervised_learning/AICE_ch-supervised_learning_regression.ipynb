{
  "nbformat": 4,
  "nbformat_minor": 0,
  "metadata": {
    "colab": {
      "provenance": []
    },
    "kernelspec": {
      "name": "python3",
      "display_name": "Python 3"
    },
    "language_info": {
      "name": "python"
    }
  },
  "cells": [
    {
      "cell_type": "code",
      "source": [
        "import numpy as np\n",
        "import matplotlib.pyplot as plt\n",
        "\n",
        "# 데이터 생성\n",
        "np.random.seed(2023)\n",
        "x = []\n",
        "y = []\n",
        "for i in range(1, 11):\n",
        "  x.append(i)\n",
        "  y.append(4*i + 7)\n",
        "\n",
        "print('x : ', x)\n",
        "print('y : ', y)"
      ],
      "metadata": {
        "colab": {
          "base_uri": "https://localhost:8080/"
        },
        "id": "oS9kRBL0JLg_",
        "outputId": "1269639a-ff30-47bf-8fc5-72ef1eb88f19"
      },
      "execution_count": 2,
      "outputs": [
        {
          "output_type": "stream",
          "name": "stdout",
          "text": [
            "x :  [1, 2, 3, 4, 5, 6, 7, 8, 9, 10]\n",
            "y :  [11, 15, 19, 23, 27, 31, 35, 39, 43, 47]\n"
          ]
        }
      ]
    },
    {
      "cell_type": "code",
      "execution_count": 3,
      "metadata": {
        "colab": {
          "base_uri": "https://localhost:8080/"
        },
        "id": "7rSo1LlyFW-s",
        "outputId": "14c6caaa-bd86-404c-dd0c-7f1621f2f4da"
      },
      "outputs": [
        {
          "output_type": "stream",
          "name": "stdout",
          "text": [
            "학습데이터 확인\n",
            "x : [[ 1]\n",
            " [ 2]\n",
            " [ 3]\n",
            " [ 4]\n",
            " [ 5]\n",
            " [ 6]\n",
            " [ 7]\n",
            " [ 8]\n",
            " [ 9]\n",
            " [10]]\n",
            "x.shape : (10, 1)\n"
          ]
        }
      ],
      "source": [
        "from sklearn.linear_model import LinearRegression\n",
        "\n",
        "# 모델 생성\n",
        "reg = LinearRegression()\n",
        "\n",
        "# 데이터 전처리\n",
        "# 1행 10열 데이터를 10행 1열로 변경\n",
        "x = np.array(x).reshape(-1,1)\n",
        "\n",
        "print(\"학습데이터 확인\")\n",
        "print('x :', x)\n",
        "print('x.shape :', x.shape)"
      ]
    },
    {
      "cell_type": "code",
      "source": [
        "# 모델 학습\n",
        "reg.fit(x,y)\n",
        "\n",
        "print(f'''기울기 및 절편 확인 coef = {reg.coef_}, intercept = {reg.intercept_} ''')\n",
        "\n",
        "coef_intercept = x * reg.coef_[0] + reg.intercept_\n",
        "print(\"계산 결과\")\n",
        "print(coef_intercept)"
      ],
      "metadata": {
        "colab": {
          "base_uri": "https://localhost:8080/"
        },
        "id": "UlqSHDyFJvb2",
        "outputId": "90375485-477f-4296-9b25-1a0137193a97"
      },
      "execution_count": 4,
      "outputs": [
        {
          "output_type": "stream",
          "name": "stdout",
          "text": [
            "기울기 및 절편 확인 coef = [4.], intercept = 6.9999999999999964 \n",
            "계산 결과\n",
            "[[11.]\n",
            " [15.]\n",
            " [19.]\n",
            " [23.]\n",
            " [27.]\n",
            " [31.]\n",
            " [35.]\n",
            " [39.]\n",
            " [43.]\n",
            " [47.]]\n"
          ]
        }
      ]
    },
    {
      "cell_type": "code",
      "source": [
        "# 성능평가\n",
        "plt.scatter(x, y, color='r', s=20)\n",
        "plt.plot(x, coef_intercept, color='orange')\n",
        "plt.text(7, 20,'coef = %.0f' % reg.coef_[0], size=12)\n",
        "plt.text(7, 18,'intercept = %.0f' % reg.intercept_, size=12)\n",
        "plt.xlabel('x')\n",
        "plt.ylabel('y')\n",
        "plt.show()"
      ],
      "metadata": {
        "colab": {
          "base_uri": "https://localhost:8080/",
          "height": 449
        },
        "id": "yKIgUGZTKLmX",
        "outputId": "8acbd435-03dd-45ca-a2ca-779eca3eb205"
      },
      "execution_count": 7,
      "outputs": [
        {
          "output_type": "display_data",
          "data": {
            "text/plain": [
              "<Figure size 640x480 with 1 Axes>"
            ],
            "image/png": "[encoded data removed]"
          },
          "metadata": {}
        }
      ]
    },
    {
      "cell_type": "code",
      "source": [],
      "metadata": {
        "id": "7nJI2Z_8K1s7"
      },
      "execution_count": null,
      "outputs": []
    }
  ]
}