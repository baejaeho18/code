{
 "cells": [
  {
   "cell_type": "markdown",
   "metadata": {
    "colab_type": "text",
    "id": "116XJaEYRQ3Y"
   },
   "source": [
    "**Read Me** \n",
    "\n",
    "\n",
    "* make sure that you have two directories\n",
    "1. ./data/\n",
    "2. ./results/\n",
    "\n",
    "\n",
    "* copy images into ./data/mnist_test_images/\n",
    "\n",
    "1. images are available at https://drive.google.com/open?id=1zIcByY9Jg2byx_R0oWEqRPvLDEUfo9-c \n"
   ]
  },
  {
   "cell_type": "markdown",
   "metadata": {},
   "source": [
    "# Import Packages"
   ]
  },
  {
   "cell_type": "code",
   "execution_count": 3,
   "metadata": {
    "colab": {},
    "colab_type": "code",
    "id": "XdfRWE0OQ3Lu"
   },
   "outputs": [],
   "source": [
    "from __future__ import print_function\n",
    "import argparse\n",
    "import torch\n",
    "import torch.nn as nn\n",
    "import torch.nn.functional as F\n",
    "import torch.optim as optim\n",
    "from torchvision import datasets, transforms"
   ]
  },
  {
   "cell_type": "markdown",
   "metadata": {
    "colab_type": "text",
    "id": "ubMzsP4wQ6J3"
   },
   "source": [
    "# Models: NetFF and NetCNN"
   ]
  },
  {
   "cell_type": "code",
   "execution_count": 4,
   "metadata": {
    "colab": {},
    "colab_type": "code",
    "id": "C68qwtfiT4UF"
   },
   "outputs": [],
   "source": [
    "class NetFF(nn.Module):\n",
    "    def __init__(self):\n",
    "        super(NetFF, self).__init__()\n",
    "        self.fc1 = nn.Linear(784, 500)\n",
    "        self.fc2 = nn.Linear(500, 300)\n",
    "        self.fc3 = nn.Linear(300, 100)\n",
    "        self.fc4 = nn.Linear(100, 10)\n",
    "\n",
    "    def forward(self, x):\n",
    "        x = x.view(-1, 784)\n",
    "        #-------- Your code here --------\n",
    "        \n",
    "        \n",
    "        \n",
    "        \n",
    "        return F.log_softmax(x, dim=1)\n",
    "\n",
    "\n",
    "class NetCNN(nn.Module):\n",
    "    def __init__(self):\n",
    "        super(NetCNN, self).__init__()\n",
    "        self.conv1 = nn.Conv2d(1, 20, 5, 1)\n",
    "        self.conv2 = nn.Conv2d(20, 50, 5, 1)\n",
    "        self.fc1 = nn.Linear(4*4*50, 500)\n",
    "        self.fc2 = nn.Linear(500, 10)\n",
    "\n",
    "    def forward(self, x):\n",
    "        #-------- Your code here --------\n",
    "        \n",
    "        \n",
    "        \n",
    "        \n",
    "        return F.log_softmax(x, dim=1)"
   ]
  },
  {
   "cell_type": "markdown",
   "metadata": {
    "colab_type": "text",
    "id": "Rpz-oovKRDkU"
   },
   "source": [
    "# Functions: train() and test()"
   ]
  },
  {
   "cell_type": "code",
   "execution_count": 10,
   "metadata": {
    "colab": {},
    "colab_type": "code",
    "id": "drnwtS8MRCia"
   },
   "outputs": [],
   "source": [
    "def train(model, device, train_loader, optimizer, epoch, log_interval):\n",
    "    model.train()\n",
    "    for batch_idx, (data, target) in enumerate(train_loader):\n",
    "        data, target = data.to(device), target.to(device)\n",
    "        \n",
    "        #-------- Your code here --------\n",
    "        \n",
    "        \n",
    "       \n",
    "        if batch_idx % log_interval == 0:\n",
    "            print('Train Epoch: {} [{}/{} ({:.0f}%)]\\tLoss: {:.6f}'.format(\n",
    "                epoch, batch_idx * len(data), len(train_loader.dataset),\n",
    "                100. * batch_idx / len(train_loader), loss.item()))\n",
    "\n",
    "            torch.save(model.state_dict(),\"./results/mnist_cnn.pt\")\n",
    "\n",
    "\n",
    "def test(model, device, test_loader):\n",
    "    model.eval()\n",
    "    test_loss = 0\n",
    "    correct = 0\n",
    "    with torch.no_grad():\n",
    "        for data, target in test_loader:\n",
    "            data, target = data.to(device), target.to(device)\n",
    "            output = model(data)\n",
    "            \n",
    "            # sum up batch loss\n",
    "            test_loss += F.nll_loss(output, target, reduction='sum').item()  \n",
    "\n",
    "            # get the index of the max log-probability\n",
    "            pred = output.argmax(dim=1, keepdim=True)                        \n",
    "            correct += pred.eq(target.view_as(pred)).sum().item()\n",
    "\n",
    "    test_loss /= len(test_loader.dataset)\n",
    "\n",
    "    print('\\nTest: Average loss: {:.4f}, Accuracy: {}/{} ({:.0f}%)\\n'.format(\n",
    "        test_loss, correct, len(test_loader.dataset),\n",
    "        100. * correct / len(test_loader.dataset)))"
   ]
  },
  {
   "cell_type": "markdown",
   "metadata": {
    "colab_type": "text",
    "id": "_KB1pn1qRG-K"
   },
   "source": [
    "# Parameters and Data load"
   ]
  },
  {
   "cell_type": "code",
   "execution_count": 28,
   "metadata": {
    "colab": {
     "base_uri": "https://localhost:8080/",
     "height": 819
    },
    "colab_type": "code",
    "id": "YHYgekGqT7jd",
    "outputId": "4ba98421-e10c-4d1f-df8d-221d0c358d4f"
   },
   "outputs": [],
   "source": [
    "seed = 1\n",
    "epochs = 2\n",
    "batch_size = 32\n",
    "test_batch_size = 1000\n",
    "lr = 0.001 # learning rate\n",
    "momentum = 0.9\n",
    "log_interval = 200\n",
    "save_model = True\n",
    "\n",
    "use_cuda = torch.cuda.is_available()\n",
    "device = torch.device(\"cuda\" if use_cuda else \"cpu\")\n",
    "kwargs = {'num_workers': 1, 'pin_memory': True} if use_cuda else {}\n",
    "\n",
    "transform=transforms.Compose([\n",
    "   transforms.ToTensor(),\n",
    "   transforms.Normalize((0.1307,), (0.3081,)) ])\n",
    "\n",
    "train_loader = torch.utils.data.DataLoader(\n",
    "    datasets.MNIST('./data', train=True, download=True, transform=transform),\n",
    "    batch_size=batch_size, shuffle=True, **kwargs)\n",
    "\n",
    "test_loader = torch.utils.data.DataLoader(\n",
    "    datasets.MNIST('./data', train=False, transform=transform),\n",
    "    batch_size=test_batch_size, shuffle=True, **kwargs)\n"
   ]
  },
  {
   "cell_type": "markdown",
   "metadata": {},
   "source": [
    "# NetFF model"
   ]
  },
  {
   "cell_type": "code",
   "execution_count": 30,
   "metadata": {},
   "outputs": [
    {
     "name": "stdout",
     "output_type": "stream",
     "text": [
      "Train Epoch: 1 [0/60000 (0%)]\tLoss: 2.339498\n",
      "Train Epoch: 1 [6400/60000 (11%)]\tLoss: 1.123757\n",
      "Train Epoch: 1 [12800/60000 (21%)]\tLoss: 0.737093\n",
      "Train Epoch: 1 [19200/60000 (32%)]\tLoss: 0.440414\n",
      "Train Epoch: 1 [25600/60000 (43%)]\tLoss: 0.489146\n",
      "Train Epoch: 1 [32000/60000 (53%)]\tLoss: 0.544215\n",
      "Train Epoch: 1 [38400/60000 (64%)]\tLoss: 0.437548\n",
      "Train Epoch: 1 [44800/60000 (75%)]\tLoss: 0.231311\n",
      "Train Epoch: 1 [51200/60000 (85%)]\tLoss: 0.271293\n",
      "Train Epoch: 1 [57600/60000 (96%)]\tLoss: 0.363241\n",
      "\n",
      "Test: Average loss: 0.2999, Accuracy: 9168/10000 (92%)\n",
      "\n",
      "Train Epoch: 2 [0/60000 (0%)]\tLoss: 0.520948\n",
      "Train Epoch: 2 [6400/60000 (11%)]\tLoss: 0.113256\n",
      "Train Epoch: 2 [12800/60000 (21%)]\tLoss: 0.188349\n",
      "Train Epoch: 2 [19200/60000 (32%)]\tLoss: 0.412683\n",
      "Train Epoch: 2 [25600/60000 (43%)]\tLoss: 0.328352\n",
      "Train Epoch: 2 [32000/60000 (53%)]\tLoss: 0.235215\n",
      "Train Epoch: 2 [38400/60000 (64%)]\tLoss: 0.130424\n",
      "Train Epoch: 2 [44800/60000 (75%)]\tLoss: 0.371435\n",
      "Train Epoch: 2 [51200/60000 (85%)]\tLoss: 0.135371\n",
      "Train Epoch: 2 [57600/60000 (96%)]\tLoss: 0.324430\n",
      "\n",
      "Test: Average loss: 0.2316, Accuracy: 9322/10000 (93%)\n",
      "\n"
     ]
    }
   ],
   "source": [
    "torch.manual_seed(seed)\n",
    "\n",
    "model = NetFF().to(device)\n",
    "optimizer = optim.SGD(model.parameters(), lr=lr, momentum=momentum)\n",
    "\n",
    "for epoch in range(1, epochs + 1):\n",
    "    #-------- Your code here --------\n",
    "    \n",
    "\n",
    "if (save_model):\n",
    "    torch.save(model,\"./results/mnist_NetFF.pth\")"
   ]
  },
  {
   "cell_type": "markdown",
   "metadata": {},
   "source": [
    "# NetCNN Model"
   ]
  },
  {
   "cell_type": "code",
   "execution_count": 31,
   "metadata": {},
   "outputs": [
    {
     "name": "stdout",
     "output_type": "stream",
     "text": [
      "Train Epoch: 1 [0/60000 (0%)]\tLoss: 2.294408\n",
      "Train Epoch: 1 [6400/60000 (11%)]\tLoss: 0.469601\n",
      "Train Epoch: 1 [12800/60000 (21%)]\tLoss: 0.433760\n",
      "Train Epoch: 1 [19200/60000 (32%)]\tLoss: 0.331650\n",
      "Train Epoch: 1 [25600/60000 (43%)]\tLoss: 0.225021\n",
      "Train Epoch: 1 [32000/60000 (53%)]\tLoss: 0.367144\n",
      "Train Epoch: 1 [38400/60000 (64%)]\tLoss: 0.108309\n",
      "Train Epoch: 1 [44800/60000 (75%)]\tLoss: 0.031551\n",
      "Train Epoch: 1 [51200/60000 (85%)]\tLoss: 0.080511\n",
      "Train Epoch: 1 [57600/60000 (96%)]\tLoss: 0.229363\n",
      "\n",
      "Test: Average loss: 0.1017, Accuracy: 9694/10000 (97%)\n",
      "\n",
      "Train Epoch: 2 [0/60000 (0%)]\tLoss: 0.108063\n",
      "Train Epoch: 2 [6400/60000 (11%)]\tLoss: 0.101820\n",
      "Train Epoch: 2 [12800/60000 (21%)]\tLoss: 0.033056\n",
      "Train Epoch: 2 [19200/60000 (32%)]\tLoss: 0.054642\n",
      "Train Epoch: 2 [25600/60000 (43%)]\tLoss: 0.037946\n",
      "Train Epoch: 2 [32000/60000 (53%)]\tLoss: 0.059596\n",
      "Train Epoch: 2 [38400/60000 (64%)]\tLoss: 0.007043\n",
      "Train Epoch: 2 [44800/60000 (75%)]\tLoss: 0.112242\n",
      "Train Epoch: 2 [51200/60000 (85%)]\tLoss: 0.052512\n",
      "Train Epoch: 2 [57600/60000 (96%)]\tLoss: 0.014794\n",
      "\n",
      "Test: Average loss: 0.0606, Accuracy: 9798/10000 (98%)\n",
      "\n"
     ]
    }
   ],
   "source": [
    "torch.manual_seed(seed)\n",
    "\n",
    "model = NetCNN().to(device)\n",
    "optimizer = optim.SGD(model.parameters(), lr=lr, momentum=momentum)\n",
    "\n",
    "for epoch in range(1, epochs + 1):\n",
    "    \n",
    "    #-------- Your code here --------\n",
    "    \n",
    "    \n",
    "\n",
    "if (save_model):\n",
    "    torch.save(model,\"./results/mnist_NetCNN.pth\")"
   ]
  },
  {
   "cell_type": "markdown",
   "metadata": {
    "colab_type": "text",
    "id": "Rlw8tSjHYwUZ"
   },
   "source": [
    "# After Training\n",
    "* load the trained model\n",
    "* test with one image or with one directory"
   ]
  },
  {
   "cell_type": "code",
   "execution_count": 32,
   "metadata": {
    "colab": {},
    "colab_type": "code",
    "id": "e6QiMXtUIm3N"
   },
   "outputs": [],
   "source": [
    "load_model = torch.load(\"./results/mnist_cnn.pth\")"
   ]
  },
  {
   "cell_type": "code",
   "execution_count": 33,
   "metadata": {
    "colab": {
     "base_uri": "https://localhost:8080/",
     "height": 34
    },
    "colab_type": "code",
    "id": "9PMm5LUaJGGa",
    "outputId": "d9fff9e4-f6d2-41b3-aacf-543de9eb296b"
   },
   "outputs": [
    {
     "name": "stdout",
     "output_type": "stream",
     "text": [
      "./data/mnist_test_images/test0.jpg 5\n"
     ]
    }
   ],
   "source": [
    "from skimage import io\n",
    "\n",
    "img_name = './data/mnist_test_images/test0.jpg'\n",
    "test_img = io.imread(img_name).reshape(28,28)\n",
    "test_data = transform(test_img).view(1,1,28,28).to(device)\n",
    "with torch.no_grad():\n",
    "  #-------- Your code here --------\n",
    "    \n",
    "  print(img_name, output.argmax(dim=1).cpu().numpy()[0])"
   ]
  },
  {
   "cell_type": "code",
   "execution_count": 34,
   "metadata": {
    "colab": {
     "base_uri": "https://localhost:8080/",
     "height": 374
    },
    "colab_type": "code",
    "id": "KIgQ9phHTXua",
    "outputId": "7118691a-5dc4-4891-9508-6940cfcca3ff"
   },
   "outputs": [
    {
     "name": "stdout",
     "output_type": "stream",
     "text": [
      "./data/mnist_test_images\\test0.jpg 5\n",
      "./data/mnist_test_images\\test1.jpg 0\n",
      "./data/mnist_test_images\\test10.jpg 3\n",
      "./data/mnist_test_images\\test11.jpg 5\n",
      "./data/mnist_test_images\\test12.jpg 3\n",
      "./data/mnist_test_images\\test13.jpg 6\n",
      "./data/mnist_test_images\\test14.jpg 1\n",
      "./data/mnist_test_images\\test15.jpg 7\n",
      "./data/mnist_test_images\\test16.jpg 2\n",
      "./data/mnist_test_images\\test17.jpg 8\n",
      "./data/mnist_test_images\\test18.jpg 6\n",
      "./data/mnist_test_images\\test19.jpg 9\n",
      "./data/mnist_test_images\\test2.jpg 4\n",
      "./data/mnist_test_images\\test20.jpg 4\n",
      "./data/mnist_test_images\\test3.jpg 1\n",
      "./data/mnist_test_images\\test4.jpg 9\n",
      "./data/mnist_test_images\\test5.jpg 2\n",
      "./data/mnist_test_images\\test6.jpg 1\n",
      "./data/mnist_test_images\\test7.jpg 3\n",
      "./data/mnist_test_images\\test8.jpg 1\n",
      "./data/mnist_test_images\\test9.jpg 4\n"
     ]
    }
   ],
   "source": [
    "from skimage import io\n",
    "import time\n",
    "import glob\n",
    "\n",
    "file_list = glob.glob(\"./data/mnist_test_images/*.jpg\")\n",
    "for img_name in file_list:\n",
    "  test_img = io.imread(img_name).reshape(28,28)\n",
    "  test_data = transform(test_img).view(1,1,28,28).to(device)\n",
    "  with torch.no_grad():\n",
    "    #-------- Your code here --------\n",
    "    \n",
    "  print(img_name, output.argmax(dim=1).cpu().numpy()[0])\n",
    "  time.sleep(0.5)"
   ]
  }
 ],
 "metadata": {
  "accelerator": "GPU",
  "colab": {
   "collapsed_sections": [],
   "name": "mnist_colab_example.ipynb",
   "provenance": [],
   "toc_visible": true
  },
  "kernelspec": {
   "display_name": "Python 3",
   "language": "python",
   "name": "python3"
  },
  "language_info": {
   "codemirror_mode": {
    "name": "ipython",
    "version": 3
   },
   "file_extension": ".py",
   "mimetype": "text/x-python",
   "name": "python",
   "nbconvert_exporter": "python",
   "pygments_lexer": "ipython3",
   "version": "3.8.5"
  }
 },
 "nbformat": 4,
 "nbformat_minor": 1
}
