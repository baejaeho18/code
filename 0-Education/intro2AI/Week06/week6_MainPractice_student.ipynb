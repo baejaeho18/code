{
 "cells": [
  {
   "cell_type": "markdown",
   "metadata": {
    "id": "VlDsBkfeYaTK"
   },
   "source": [
    "# 1️⃣ Data Handling\n",
    "## Import libraries & Load Data"
   ]
  },
  {
   "cell_type": "code",
   "execution_count": null,
   "metadata": {
    "colab": {
     "base_uri": "https://localhost:8080/",
     "height": 358
    },
    "executionInfo": {
     "elapsed": 1677,
     "status": "error",
     "timestamp": 1617346805180,
     "user": {
      "displayName": "HS Han",
      "photoUrl": "",
      "userId": "05470878283248435968"
     },
     "user_tz": -540
    },
    "id": "qMr7VnhiYW8m",
    "outputId": "c046bca3-4b00-4762-8a61-ac71dac4c367"
   },
   "outputs": [],
   "source": [
    "#data handling\n",
    "import numpy as np\n",
    "import matplotlib.pyplot as plt\n",
    "import pandas as pd\n",
    "df = pd.________('________')"
   ]
  },
  {
   "cell_type": "markdown",
   "metadata": {
    "id": "A6lfujoQYvo8"
   },
   "source": [
    "## See How Data Look Like"
   ]
  },
  {
   "cell_type": "code",
   "execution_count": null,
   "metadata": {
    "id": "pHIx-K3dYW8t",
    "outputId": "10fbc905-ded4-4723-9af4-998b850a6e97"
   },
   "outputs": [],
   "source": [
    "df.shape"
   ]
  },
  {
   "cell_type": "code",
   "execution_count": null,
   "metadata": {
    "id": "s88ON5FCYW8u",
    "outputId": "79e86a48-cc9f-4a32-cdfc-130d26d2184e"
   },
   "outputs": [],
   "source": [
    "df.columns"
   ]
  },
  {
   "cell_type": "code",
   "execution_count": null,
   "metadata": {
    "id": "eAcXxdvuYW8u",
    "outputId": "f31499f2-f725-4d40-87ea-3b3581acdd1f"
   },
   "outputs": [],
   "source": [
    "df.describe()"
   ]
  },
  {
   "cell_type": "code",
   "execution_count": null,
   "metadata": {
    "id": "z258SasCYW8v",
    "outputId": "1a5c04b3-0c10-402e-d951-892885217f62",
    "scrolled": false
   },
   "outputs": [],
   "source": [
    "df.info()"
   ]
  },
  {
   "cell_type": "code",
   "execution_count": null,
   "metadata": {
    "id": "4-3Md-YpYW8u",
    "outputId": "ba38337d-7a69-46f9-be46-1d6c883220dc"
   },
   "outputs": [],
   "source": [
    "# noused codes\n",
    "df['yyyyqrt(거래년도 분기별)'].unique()"
   ]
  },
  {
   "cell_type": "markdown",
   "metadata": {
    "id": "sLwMjDv8ZGz4"
   },
   "source": [
    "## Data Cleaning"
   ]
  },
  {
   "cell_type": "code",
   "execution_count": null,
   "metadata": {
    "id": "34KdqQ0vYW8v",
    "outputId": "f2b4df54-ae80-4b17-bbf6-27a605a641bf",
    "scrolled": true
   },
   "outputs": [],
   "source": [
    "# Checking missing cells\n",
    "df[________].________].head()"
   ]
  },
  {
   "cell_type": "code",
   "execution_count": null,
   "metadata": {
    "id": "4cOtBqm1YW8v"
   },
   "outputs": [],
   "source": [
    "df['Yongpae(용적률)']=df['Yongpae(용적률)'].________\n",
    "df['Gunpae(건폐율)']=df['Gunpae(건폐율)'].________"
   ]
  },
  {
   "cell_type": "code",
   "execution_count": null,
   "metadata": {
    "id": "9QYi1YjnYW8w",
    "outputId": "8c5301cc-4727-4e0a-c086-72c36ef90aae"
   },
   "outputs": [],
   "source": [
    "df.info()"
   ]
  },
  {
   "cell_type": "markdown",
   "metadata": {
    "id": "8QlHvWjpZVct"
   },
   "source": [
    "## See How Data Look Like 2"
   ]
  },
  {
   "cell_type": "code",
   "execution_count": null,
   "metadata": {
    "id": "o2iWBNx_YW8w",
    "outputId": "7b6f029c-e538-43aa-a976-a3d13d7184fe"
   },
   "outputs": [],
   "source": [
    "df[________].value_counts()"
   ]
  },
  {
   "cell_type": "code",
   "execution_count": null,
   "metadata": {
    "id": "FHV2zjmJYW8w",
    "outputId": "0b33dbac-3cb2-4fdd-bcb8-c2f709aa6527",
    "scrolled": false
   },
   "outputs": [],
   "source": [
    "df[________].value_counts()"
   ]
  },
  {
   "cell_type": "markdown",
   "metadata": {
    "id": "_XC4iGY9ZmVW"
   },
   "source": [
    "## Basic Methods "
   ]
  },
  {
   "cell_type": "code",
   "execution_count": null,
   "metadata": {
    "id": "HDx81jJDYW8w",
    "outputId": "cd6dcdea-44a2-4ea6-cbee-53730be996c0"
   },
   "outputs": [],
   "source": [
    "data1= df.loc[:,________]\n",
    "data1.head()"
   ]
  },
  {
   "cell_type": "code",
   "execution_count": null,
   "metadata": {
    "id": "BO8ZPDnSYW8x",
    "outputId": "0a24454c-7c60-4a7f-dbd2-7dd66f084542",
    "scrolled": true
   },
   "outputs": [],
   "source": [
    "data1= df[['yyyyqrt(거래년도 분기별)','price(가격)','dong(동)','Latitude(위도)', 'Longtitude(경도)',\n",
    "           'Seoul_l.rate(지가상승률)','dis_subway(지하철역과의 거리)' ]]\n",
    "data1.head()"
   ]
  },
  {
   "cell_type": "code",
   "execution_count": null,
   "metadata": {
    "id": "uNRdjbkiYW8x",
    "outputId": "1bced750-99dc-4a22-bffe-3e5eb26242f4"
   },
   "outputs": [],
   "source": [
    "data1.tail()"
   ]
  },
  {
   "cell_type": "markdown",
   "metadata": {
    "id": "DlAVWYnKZ1Xi"
   },
   "source": [
    "# 2️⃣ Real-Estate Time Series Data\n",
    "## Exercise(2) - Visualize the Data Considering Its Location"
   ]
  },
  {
   "cell_type": "code",
   "execution_count": null,
   "metadata": {
    "id": "T_brh3MXYW8x",
    "outputId": "a192e671-5f1c-4dc5-c3ff-c4106d6b19f1"
   },
   "outputs": [],
   "source": [
    "dong = ['Chungdam', 'Apgujeong', 'Dogok', 'Samsung','Daechi','Gaepo','Yeocksam', 'Suseo']\n",
    "lon=[127.0487,127.0303,127.0438,127.0565,127.0611,127.0609,127.0374,127.1052]\n",
    "lat=[37.5232,37.5317,37.4898,37.5140,37.4995,37.4790,37.4999,37.4890]\n",
    "data = {'Dong':dong,'Lat':lat,'Lng' : lon}\n",
    "dong_data=pd.________\n",
    "dong_data"
   ]
  },
  {
   "cell_type": "code",
   "execution_count": null,
   "metadata": {
    "id": "Rugym8aiYW8y",
    "outputId": "2e83bdbc-e55f-489c-f57b-de103380e7fa"
   },
   "outputs": [],
   "source": [
    "# Location plot (Spatial information)\n",
    "plt.figure(figsize=(8, 5))\n",
    "plt.scatter(data1['Longtitude(경도)'],data1['Latitude(위도)'],alpha=0.1) # data plot\n",
    "\n",
    "for i in range(8): # Marking areas\n",
    "    plt.text(________)\n",
    "plt.scatter(________)  \n",
    "plt.xlabel(\"Longitude\")\n",
    "plt.ylabel(\"Latitude\")"
   ]
  },
  {
   "cell_type": "code",
   "execution_count": null,
   "metadata": {
    "id": "JhB_xMsmYW8y",
    "outputId": "1f7fe9bc-1ecc-41be-a668-b511050e89a4"
   },
   "outputs": [],
   "source": [
    "# Changing the names of columns\n",
    "data2=data1.copy()\n",
    "data2.columns=['yearqrt', 'price', 'dong','Lat', 'Lng','rate','station_dist']\n",
    "data2"
   ]
  },
  {
   "cell_type": "code",
   "execution_count": null,
   "metadata": {
    "id": "S5vHW3bcYW8z",
    "outputId": "cfdfed01-36ef-48d3-9ac7-95098d9da2f4"
   },
   "outputs": [],
   "source": [
    "# visualize price at 2006 and 2017\n",
    "plt.figure(figsize=(25, 8))\n",
    "\n",
    "tp=data2[data2['yearqrt'].str.contains(\"2006Q\")]\n",
    "plt.subplot(1,2,1) # price plot\n",
    "plt.scatter(x=tp[\"Lng\"], y=tp[\"Lat\"], c=tp[\"price\"],s=200, cmap=plt.cm.Reds)\n",
    "plt.colorbar(label='color')\n",
    "for i in range(8): # Marking areas\n",
    "    \n",
    "    \"________your code here________\"\n",
    "    \n",
    "plt.scatter(________)  \n",
    "plt.title(\"2006\"); plt.xlabel(\"Longitude\"); plt.ylabel(\"Latitude\");\n",
    "\n",
    "\n",
    "tp=data2[data2['yearqrt'].str.contains(\"2017Q\")]\n",
    "plt.subplot(1,2,2)  # price plot\n",
    "plt.scatter(x=tp[\"Lng\"], y=tp[\"Lat\"], c=tp[\"price\"], s=200,cmap=plt.cm.Reds)\n",
    "plt.colorbar(label='color')\n",
    "for i in range(8): # Marking areas\n",
    "    \n",
    "    \"________your code here________\"\n",
    "    \n",
    "plt.scatter(________)  \n",
    "plt.title(\"2017\"); plt.xlabel(\"Longitude\"); plt.ylabel(\"Latitude\");"
   ]
  },
  {
   "cell_type": "code",
   "execution_count": null,
   "metadata": {
    "id": "lZk1hX0tYW80"
   },
   "outputs": [],
   "source": [
    "data_gaepo=data2[_______]\n",
    "data_gaepo.head()"
   ]
  },
  {
   "cell_type": "code",
   "execution_count": null,
   "metadata": {
    "id": "O8-yrH03YW81",
    "outputId": "e8cd1a40-4e80-4817-f2f7-d26e9ba1dcc2",
    "scrolled": false
   },
   "outputs": [],
   "source": [
    "data_gaepo_time=_______.mean()  \n",
    "data_gaepo_time.head()"
   ]
  },
  {
   "cell_type": "code",
   "execution_count": null,
   "metadata": {
    "id": "Q2EDoUuxYW81",
    "outputId": "01654d36-35bc-460f-9d40-3fa2484aa60d",
    "scrolled": false
   },
   "outputs": [],
   "source": [
    "plt.figure(figsize=(20,8))\n",
    "plt.title(\"Gaepo\")\n",
    "\n",
    "\"________your code here________\"\n",
    "\n",
    "plt.show()"
   ]
  },
  {
   "cell_type": "markdown",
   "metadata": {
    "id": "lHEjMHCQapnR"
   },
   "source": [
    "## Exercise(3) - Each Dong's Average Price Changes Over Time"
   ]
  },
  {
   "cell_type": "code",
   "execution_count": null,
   "metadata": {
    "id": "pBhVibK-YW8r",
    "outputId": "2f7ad4e1-71b5-4c92-b060-37d1f75c84dc",
    "scrolled": true
   },
   "outputs": [],
   "source": [
    "#for Korean Class (printing korean words)\n",
    "import matplotlib.font_manager as fm\n",
    "\n",
    "# print korean fonts that you have\n",
    "# font_list = [font.name for font in fm.fontManager.ttflist]\n",
    "#print(font_list)\n",
    "plt.rcParams['font.family'] = 'Malgun Gothic'\n",
    "\n",
    "import matplotlib # For broken '-' sign\n",
    "matplotlib.rcParams['axes.unicode_minus'] = False"
   ]
  },
  {
   "cell_type": "code",
   "execution_count": null,
   "metadata": {
    "colab": {
     "base_uri": "https://localhost:8080/",
     "height": 244
    },
    "executionInfo": {
     "elapsed": 576,
     "status": "error",
     "timestamp": 1617348042820,
     "user": {
      "displayName": "HS Han",
      "photoUrl": "",
      "userId": "05470878283248435968"
     },
     "user_tz": -540
    },
    "id": "C-Z3yuauYW81",
    "outputId": "fe5b4718-abda-4433-b57c-7f3d17bd99bb",
    "scrolled": true
   },
   "outputs": [],
   "source": [
    "dong=df['dong(동)'].unique()\n",
    "plt.figure(figsize=(50,100))\n",
    "count=1\n",
    "for i in dong:\n",
    "    \n",
    "    \"________your code here________\"\n",
    "    \n",
    "    count=count+1\n",
    "plt.show()"
   ]
  },
  {
   "cell_type": "markdown",
   "metadata": {
    "id": "3Mr2VJZ5bkVG"
   },
   "source": [
    "## Exercise(4) - Simple Smoothing Using 5-MA"
   ]
  },
  {
   "cell_type": "code",
   "execution_count": null,
   "metadata": {
    "id": "wuEPeOoAYW85",
    "outputId": "9186ac24-ebca-43fc-d7b5-09585cdfdf83"
   },
   "outputs": [],
   "source": [
    "dong_col=[]\n",
    "for i in dong:\n",
    "    tmp=df[df['dong(동)']==i]\n",
    "    tp=tmp.groupby('yyyyqrt(거래년도 분기별)').mean()\n",
    "    print(i, ' : ', len(tp), end=' ')\n",
    "    dong_col.append(i)\n",
    "    print('\\n')"
   ]
  },
  {
   "cell_type": "code",
   "execution_count": null,
   "metadata": {
    "id": "uesZqgN2YW86",
    "outputId": "fc0194ad-0aed-4e69-cb69-fad569955a88",
    "scrolled": false
   },
   "outputs": [],
   "source": [
    "plt.figure(figsize=(50,100))\n",
    "count=1; date=[];\n",
    "nMA = 2 # number of Pre(or post) samples to average\n",
    "for i in dong:\n",
    "    \n",
    "    \"________your code here________\"\n",
    "    \n",
    "    ls=[]\n",
    "    for j in range(nMA,len(tp)-nMA): # Averaging 5 samples\n",
    "        ls.append(tp['price(가격)'].iloc[j-nMA:j+nMA].mean())\n",
    "    \n",
    "    \n",
    "    \"________your code here________\"\n",
    "    \n",
    "    count=count+1"
   ]
  },
  {
   "cell_type": "code",
   "execution_count": null,
   "metadata": {
    "colab": {
     "base_uri": "https://localhost:8080/"
    },
    "executionInfo": {
     "elapsed": 1287,
     "status": "ok",
     "timestamp": 1617347718897,
     "user": {
      "displayName": "HS Han",
      "photoUrl": "",
      "userId": "05470878283248435968"
     },
     "user_tz": -540
    },
    "id": "xuUMqczQYW87",
    "outputId": "7dd4bb3e-f281-4aac-fca6-3e1c30a8787a"
   },
   "outputs": [],
   "source": [
    "from statsmodels.graphics.tsaplots import plot_acf, plot_pacf\n",
    "corr=df.corr()\n",
    "corr.head(15)"
   ]
  },
  {
   "cell_type": "markdown",
   "metadata": {
    "id": "Fh0bSsfScFM3"
   },
   "source": [
    "## Exercise(5) - Correlations "
   ]
  },
  {
   "cell_type": "code",
   "execution_count": null,
   "metadata": {
    "id": "SzRoQeWAYW88",
    "outputId": "1d76c63a-5e22-4017-a368-669aa2201fc2"
   },
   "outputs": [],
   "source": [
    "# Correlation in 2006Q1\n",
    "\n",
    "df2006Q1=df[df['yyyyqrt(거래년도 분기별)']==\"______\"] # extract data in 2006Q1\n",
    "df2006Q1_apt=\"______\"('aptnm(아파트 이름)').mean() #average price\n",
    "r = df2006Q1_apt.corr()\n",
    "r_price = r['price(가격)']\n",
    "\n",
    "plt.figure(figsize=(20,5))\n",
    "plt.plot(r_price,'o-')\n",
    "plt.yticks(fontsize = 20); plt.xticks(rotation=45, fontsize = 15, ha = 'right')\n",
    "plt.title('2006Q1',fontsize=30); \n",
    "plt.grid(True)\n",
    "plt.show()"
   ]
  },
  {
   "cell_type": "code",
   "execution_count": null,
   "metadata": {
    "id": "MQGcsXtaYW89",
    "outputId": "3a62b6ce-4ab1-4a4b-9117-e150ae98f9c7"
   },
   "outputs": [],
   "source": [
    "# Correlations in other years.\n",
    "\n",
    "years = ['2006Q1', '2016Q1', '2017Q1', '2017Q2']\n",
    "\n",
    "for y in years:\n",
    "    df_y=df[df['yyyyqrt(거래년도 분기별)']==y] # extract data in 2006Q1\n",
    "    df_y_apt=df_y.groupby('aptnm(아파트 이름)').mean() #average price\n",
    "    df_r = df_y_apt.corr()\n",
    "    df_r_price = df_r['price(가격)']\n",
    "    if y==years[0]:\n",
    "        df_r_price_all = df_r_price\n",
    "    else:\n",
    "        df_r_price_all = pd.concat([df_r_price_all,df_r_price],axis=1)\n",
    "df_r_price_all.columns = years\n",
    "\n",
    "\n",
    "plt.figure(figsize=(20,10))\n",
    "\n",
    "\"________your code here________\"\n",
    "\n",
    "plt.show()"
   ]
  },
  {
   "cell_type": "markdown",
   "metadata": {
    "id": "oTJfoqflcpte"
   },
   "source": [
    "## Exercise(6) - AR(1) "
   ]
  },
  {
   "cell_type": "code",
   "execution_count": null,
   "metadata": {
    "id": "EY03_XnaYW8-",
    "outputId": "635b5c06-cc70-4ebb-a750-d61f1507c314"
   },
   "outputs": [],
   "source": [
    "nMA = 2 # number of Pre(or post) samples to average\n",
    "\n",
    "plt.figure(figsize=(50,15))\n",
    "tmp=df[df['dong(동)']==\"역삼동\"]\n",
    "tp=tmp.groupby('yyyyqrt(거래년도 분기별)').mean().copy()\n",
    "ls=[]\n",
    "for j in range(nMA,len(tp)-nMA):\n",
    "    ls.append(tp['price(가격)'].iloc[j-nMA:j+nMA].mean())\n",
    "df_mean5=pd.DataFrame({\"Time\" : tp.index.values[nMA:len(tp)-nMA], \"Mean_Price\" : ls })\n",
    "plt.plot(df_mean5[\"Time\"],df_mean5[\"Mean_Price\"],linewidth=3.0)\n",
    "plt.yticks(fontsize = 50); plt.xticks(fontsize = 30, rotation = 45, ha = 'right')\n",
    "plt.grid(True)"
   ]
  },
  {
   "cell_type": "code",
   "execution_count": null,
   "metadata": {},
   "outputs": [],
   "source": [
    "plot_acf(df_mean5)\n",
    "plt.show()"
   ]
  },
  {
   "cell_type": "code",
   "execution_count": null,
   "metadata": {
    "id": "l5Uc0GfHYW8-",
    "outputId": "a0f7bd89-4f19-4b4b-d709-cac361fda60f"
   },
   "outputs": [],
   "source": [
    "# Difference\n",
    "plt.figure(figsize=(50,15))\n",
    "\n",
    "\"________your code here________\"\n",
    "\n",
    "plt.yticks(fontsize = 50); plt.xticks(fontsize = 30, rotation = 45, ha = 'right')\n",
    "plt.plot(diff_1,  linewidth=3.0)\n",
    "plt.axhline(y=0, color='r', linewidth=3.0)\n",
    "plt.grid(True)"
   ]
  },
  {
   "cell_type": "code",
   "execution_count": null,
   "metadata": {
    "id": "Gu8t7yOVYW8_",
    "outputId": "a731be3a-c4c0-4d13-dd01-55d0c89b1546"
   },
   "outputs": [],
   "source": [
    "plot_acf(diff_1)\n",
    "plt.show()"
   ]
  },
  {
   "cell_type": "code",
   "execution_count": null,
   "metadata": {
    "id": "mwVZv_NjYW9B"
   },
   "outputs": [],
   "source": [
    "from statsmodels.tsa.arima_model import ARIMA\n",
    "train = diff_1.iloc[:38] # 38 out of 42 samples\n",
    "test = diff_1.iloc[38:] # 4 out of 42 samples\n",
    "model = \"______________\" # order=(p,d,q), here we only use  p = 1\n",
    "\n",
    "# Nc: No constant used / convergence information is not printed\n",
    "model_fit = \"______________\"\n",
    "print(model_fit.summary())"
   ]
  },
  {
   "cell_type": "code",
   "execution_count": null,
   "metadata": {
    "id": "hHb2uztgYW9B",
    "outputId": "9edf2e63-8e07-4958-c830-461faa2940c7"
   },
   "outputs": [],
   "source": [
    "# plot the result (predicted value and true value) for traing samples\n",
    "predict = \"______________\""
   ]
  },
  {
   "cell_type": "code",
   "execution_count": null,
   "metadata": {
    "id": "3aWbIyJAYW9B"
   },
   "outputs": [],
   "source": [
    "\"________your code here________\"\n",
    "\n",
    "\n",
    "plt.figure(figsize=(40,10), dpi=100)\n",
    "plt.plot(diff_1, linewidth = 3.0, label='training')\n",
    "plt.plot(test,  linewidth = 3.0, label='actual')\n",
    "plt.plot(fc_series, linewidth = 3.0, label='forecast')\n",
    "plt.legend(fontsize=50)\n",
    "plt.yticks(fontsize = 50); plt.xticks(fontsize = 30, rotation = 45, ha = 'right')\n",
    "plt.grid(True)\n",
    "\n",
    "#**** code for highlight the target area ***\n",
    "#lower_series = pd.Series(conf[:, 0], index=test.index)\n",
    "#upper_series = pd.Series(conf[:, 1], index=test.index)\n",
    "#plt.fill_between(lower_series.index, lower_series, upper_series, color='k', alpha=.15)"
   ]
  }
 ],
 "metadata": {
  "colab": {
   "collapsed_sections": [
    "J1inkIOfcbBD"
   ],
   "name": "Week5_SourceCode.ipynb",
   "provenance": []
  },
  "kernelspec": {
   "display_name": "Python 3",
   "language": "python",
   "name": "python3"
  },
  "language_info": {
   "codemirror_mode": {
    "name": "ipython",
    "version": 3
   },
   "file_extension": ".py",
   "mimetype": "text/x-python",
   "name": "python",
   "nbconvert_exporter": "python",
   "pygments_lexer": "ipython3",
   "version": "3.9.1"
  }
 },
 "nbformat": 4,
 "nbformat_minor": 1
}
