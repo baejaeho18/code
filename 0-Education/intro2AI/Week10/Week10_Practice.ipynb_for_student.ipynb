{
 "cells": [
  {
   "cell_type": "markdown",
   "metadata": {
    "id": "daFEnhhCHw5K"
   },
   "source": [
    "# 1️⃣ Simple Linear Regression\n",
    "## What is Regression?"
   ]
  },
  {
   "cell_type": "code",
   "execution_count": null,
   "metadata": {
    "executionInfo": {
     "elapsed": 1679,
     "status": "ok",
     "timestamp": 1619865421200,
     "user": {
      "displayName": "HS Han",
      "photoUrl": "",
      "userId": "05470878283248435968"
     },
     "user_tz": -540
    },
    "id": "v7tNG5wNHYNu"
   },
   "outputs": [],
   "source": [
    "import pandas as pd\n",
    "import numpy as np\n",
    "import matplotlib.pyplot as plt"
   ]
  },
  {
   "cell_type": "code",
   "execution_count": null,
   "metadata": {
    "colab": {
     "base_uri": "https://localhost:8080/",
     "height": 529
    },
    "executionInfo": {
     "elapsed": 1571,
     "status": "ok",
     "timestamp": 1619865424761,
     "user": {
      "displayName": "HS Han",
      "photoUrl": "",
      "userId": "05470878283248435968"
     },
     "user_tz": -540
    },
    "id": "jHH0YHYsHYNv",
    "outputId": "a2f4808e-7344-4fbb-93a1-a744a2594d0e",
    "scrolled": false
   },
   "outputs": [],
   "source": [
    "x_data = [1.0, 2.0, 3.0]\n",
    "y_data = [2.0, 4.0, 6.0]\n",
    "\n",
    "#Our model forward pass\n",
    "def forward(x):\n",
    "    return x * w\n",
    "\n",
    "# Loss function\n",
    "def loss(y_pred, y):\n",
    "    #---- your code here ----\n",
    "\n",
    "w = 0.00  # initial w\n",
    "for epoch in range(30):\n",
    "    for x, y in zip(x_data, y_data):\n",
    "\n",
    "        #---- your code here ----\n",
    "        \n",
    "        \n",
    "    plt.scatter(w,l, color = 'r')"
   ]
  },
  {
   "cell_type": "code",
   "execution_count": null,
   "metadata": {
    "colab": {
     "base_uri": "https://localhost:8080/",
     "height": 813
    },
    "executionInfo": {
     "elapsed": 1586,
     "status": "ok",
     "timestamp": 1619865426900,
     "user": {
      "displayName": "HS Han",
      "photoUrl": "",
      "userId": "05470878283248435968"
     },
     "user_tz": -540
    },
    "id": "LoSGfLIwHYNw",
    "outputId": "7373f6f0-a4a8-4012-bf49-fc38cdde6a40",
    "scrolled": false
   },
   "outputs": [],
   "source": [
    "# Training Data\n",
    "x_data = [1, 2, 3]\n",
    "y_data = [2, 4, 6]\n",
    "\n",
    "# compute gradient\n",
    "def gradient(x, y):  # d_loss/d_w\n",
    "    #---- your code here ----\n",
    "\n",
    "w = 1.00  # initial w\n",
    "for epoch in range(30):\n",
    "    for x, y in zip(x_data, y_data):\n",
    "\n",
    "        #---- your code here ----\n",
    "        \n",
    "    plt.scatter(w,l, color = 'r')"
   ]
  },
  {
   "cell_type": "code",
   "execution_count": null,
   "metadata": {
    "colab": {
     "base_uri": "https://localhost:8080/"
    },
    "executionInfo": {
     "elapsed": 1118,
     "status": "ok",
     "timestamp": 1619865429588,
     "user": {
      "displayName": "HS Han",
      "photoUrl": "",
      "userId": "05470878283248435968"
     },
     "user_tz": -540
    },
    "id": "AAygZ8qJHYNx",
    "outputId": "0eba2f68-b08e-4902-9116-43fdf2237998"
   },
   "outputs": [],
   "source": [
    "# After training\n",
    "print(\"Predicted score (after training)\",  \"When x=4, y will be : \", forward(4))\n",
    "print(\"Predicted score (after training)\",  \"When x=4, y will be : \", forward(6))\n"
   ]
  },
  {
   "cell_type": "markdown",
   "metadata": {},
   "source": [
    "# Exercise1: speed of sound"
   ]
  },
  {
   "cell_type": "code",
   "execution_count": null,
   "metadata": {
    "executionInfo": {
     "elapsed": 1201,
     "status": "ok",
     "timestamp": 1619865435201,
     "user": {
      "displayName": "HS Han",
      "photoUrl": "",
      "userId": "05470878283248435968"
     },
     "user_tz": -540
    },
    "id": "sHVIQ9ALHYN7"
   },
   "outputs": [],
   "source": [
    "x_data = [0.0, 1.0, 2.0, 3.0]\n",
    "y_data = [331.0, 331.6, 332.2, 332.8]\n",
    "w=0.0\n",
    "b=0.0\n",
    "\n",
    "epochs = 1000\n",
    "learning_rate = 0.03\n",
    "for i in range(epochs):\n",
    "    for x, y in zip(x_data,y_data):\n",
    "\n",
    "        #---- your code here ----\n",
    "        "
   ]
  },
  {
   "cell_type": "code",
   "execution_count": null,
   "metadata": {
    "colab": {
     "base_uri": "https://localhost:8080/"
    },
    "executionInfo": {
     "elapsed": 622,
     "status": "ok",
     "timestamp": 1619865437160,
     "user": {
      "displayName": "HS Han",
      "photoUrl": "",
      "userId": "05470878283248435968"
     },
     "user_tz": -540
    },
    "id": "qH8k4XtzHYN7",
    "outputId": "8ab368d9-a8e2-4342-cf6b-d954ac5aa3ab"
   },
   "outputs": [],
   "source": [
    "x_new = 20\n",
    "y_pred = x_new * w + b\n",
    "print(y_pred)"
   ]
  },
  {
   "cell_type": "markdown",
   "metadata": {
    "id": "XzSrIZN9H7lw"
   },
   "source": [
    "# 1️⃣ Linear Regression Using Real Estate Data\n",
    "## sklearn Regression"
   ]
  },
  {
   "cell_type": "code",
   "execution_count": null,
   "metadata": {
    "colab": {
     "base_uri": "https://localhost:8080/"
    },
    "executionInfo": {
     "elapsed": 837,
     "status": "ok",
     "timestamp": 1619865441980,
     "user": {
      "displayName": "HS Han",
      "photoUrl": "",
      "userId": "05470878283248435968"
     },
     "user_tz": -540
    },
    "id": "VJCt53VJHYOV",
    "outputId": "f0ae830b-6a4a-4199-fb9b-e4a69d45cc38"
   },
   "outputs": [],
   "source": [
    "import numpy as np\n",
    "import matplotlib.pyplot as plt\n",
    "import pandas as pd\n",
    "from sklearn.linear_model import LinearRegression"
   ]
  },
  {
   "cell_type": "code",
   "execution_count": null,
   "metadata": {
    "colab": {
     "base_uri": "https://localhost:8080/",
     "height": 590
    },
    "executionInfo": {
     "elapsed": 5761,
     "status": "ok",
     "timestamp": 1619865449329,
     "user": {
      "displayName": "HS Han",
      "photoUrl": "",
      "userId": "05470878283248435968"
     },
     "user_tz": -540
    },
    "id": "hZXoNZOTKHdC",
    "outputId": "83eafa06-ba71-4760-f103-99d79b71a437",
    "scrolled": true
   },
   "outputs": [],
   "source": [
    "df = pd.read_excel('data_set_train.xlsx')\n",
    "df.head()"
   ]
  },
  {
   "cell_type": "code",
   "execution_count": null,
   "metadata": {
    "colab": {
     "base_uri": "https://localhost:8080/",
     "height": 1000
    },
    "executionInfo": {
     "elapsed": 991,
     "status": "ok",
     "timestamp": 1619865451410,
     "user": {
      "displayName": "HS Han",
      "photoUrl": "",
      "userId": "05470878283248435968"
     },
     "user_tz": -540
    },
    "id": "kVVBebVOHYOW",
    "outputId": "d8fb3d94-7354-43af-b27d-452210e2f894"
   },
   "outputs": [],
   "source": [
    "df.corr().head()"
   ]
  },
  {
   "cell_type": "code",
   "execution_count": null,
   "metadata": {
    "colab": {
     "base_uri": "https://localhost:8080/",
     "height": 333
    },
    "executionInfo": {
     "elapsed": 563,
     "status": "ok",
     "timestamp": 1619865453506,
     "user": {
      "displayName": "HS Han",
      "photoUrl": "",
      "userId": "05470878283248435968"
     },
     "user_tz": -540
    },
    "id": "6FytE_PSHYOX",
    "outputId": "aebd7817-6f4d-44ed-e8b9-3be004c9be38"
   },
   "outputs": [],
   "source": [
    "df_2017q1=df[df['yyyyqrt(거래년도 분기별)']=='2017Q1']\n",
    "df_2017q1.corr().head(5)"
   ]
  },
  {
   "cell_type": "code",
   "execution_count": null,
   "metadata": {
    "colab": {
     "base_uri": "https://localhost:8080/",
     "height": 338
    },
    "executionInfo": {
     "elapsed": 866,
     "status": "ok",
     "timestamp": 1619865455956,
     "user": {
      "displayName": "HS Han",
      "photoUrl": "",
      "userId": "05470878283248435968"
     },
     "user_tz": -540
    },
    "id": "7ew7xIX_Kz0P",
    "outputId": "3277e2f1-c118-4587-e57e-7e26abf47f49"
   },
   "outputs": [],
   "source": [
    "# Area vs. Price\n",
    "\n",
    "    #---- your code here ----\n"
   ]
  },
  {
   "cell_type": "code",
   "execution_count": null,
   "metadata": {
    "colab": {
     "base_uri": "https://localhost:8080/"
    },
    "executionInfo": {
     "elapsed": 797,
     "status": "ok",
     "timestamp": 1619865457976,
     "user": {
      "displayName": "HS Han",
      "photoUrl": "",
      "userId": "05470878283248435968"
     },
     "user_tz": -540
    },
    "id": "6fFqOeMa1auH",
    "outputId": "cd1d2114-ed23-413d-ab48-b062792b4f66"
   },
   "outputs": [],
   "source": [
    "from sklearn.model_selection import train_test_split\n",
    "\n",
    "#Split data into training set and test set\n",
    "X = np.array(df_2017q1['area(면적)']).reshape(-1, 1)\n",
    "y = np.array(df_2017q1['price(가격)']).reshape(-1, 1)\n",
    "\n",
    "        #---- your code here ----\n",
    "\n",
    "print(\"train_x shape  = \",train_x.shape, \"train_y shape  = \", train_y.shape)\n",
    "print(\"test_x shape  = \",test_x.shape, \"test_y shape  = \", test_y.shape)\n"
   ]
  },
  {
   "cell_type": "code",
   "execution_count": null,
   "metadata": {
    "colab": {
     "base_uri": "https://localhost:8080/"
    },
    "executionInfo": {
     "elapsed": 438,
     "status": "ok",
     "timestamp": 1619865459369,
     "user": {
      "displayName": "HS Han",
      "photoUrl": "",
      "userId": "05470878283248435968"
     },
     "user_tz": -540
    },
    "id": "_Kr4RZA7K7uJ",
    "outputId": "c6e9bb0e-1914-444c-c5e1-7a6ce3c3cd47",
    "scrolled": true
   },
   "outputs": [],
   "source": [
    "# Training\n",
    "\n",
    "    #---- your code here ----\n",
    "    \n",
    "print(\"Fitting results: \", 'w = ', simple_lin_reg.intercept_, 'b = ', simple_lin_reg.coef_ )\n",
    "\n",
    "# Prediction\n",
    "\n",
    "    #---- your code here ----\n",
    "\n",
    "print(\"Testing results: \", 'score = ', simple_lin_reg.score(test_x, test_y))\n",
    "\n",
    "# Visulization\n",
    "plt.figure(figsize=(10, 4))\n",
    "plt.subplot(1,2,1)\n",
    "plt.scatter(train_x,train_y,color='k')\n",
    "plt.scatter(train_x,simple_lin_reg.predict(train_x),color='c')\n",
    "plt.title('Trainig data'); plt.xlim(0,260); plt.ylim(0,550000);\n",
    "\n",
    "plt.subplot(1,2,2)\n",
    "plt.scatter(test_x, test_y, color ='k')\n",
    "plt.scatter(test_x, test_y_pred,color='r')\n",
    "plt.title('Testing data'); plt.xlim(0,260); plt.ylim(0,550000);"
   ]
  },
  {
   "cell_type": "markdown",
   "metadata": {},
   "source": [
    "# Regression by Quadratic function"
   ]
  },
  {
   "cell_type": "code",
   "execution_count": null,
   "metadata": {
    "colab": {
     "base_uri": "https://localhost:8080/"
    },
    "executionInfo": {
     "elapsed": 588,
     "status": "ok",
     "timestamp": 1619840977706,
     "user": {
      "displayName": "HS Han",
      "photoUrl": "",
      "userId": "05470878283248435968"
     },
     "user_tz": -540
    },
    "id": "xVvFnHZcA63y",
    "outputId": "147317c5-cec4-4d20-c2ca-facc9ce4df1c"
   },
   "outputs": [],
   "source": [
    "# Generating X^2\n",
    "train_x_s = np.c_[train_x, train_x**2]\n",
    "test_x_s = np.c_[test_x, test_x**2]\n",
    "\n",
    "train_x_s"
   ]
  },
  {
   "cell_type": "code",
   "execution_count": null,
   "metadata": {
    "colab": {
     "base_uri": "https://localhost:8080/"
    },
    "executionInfo": {
     "elapsed": 559,
     "status": "ok",
     "timestamp": 1619841074549,
     "user": {
      "displayName": "HS Han",
      "photoUrl": "",
      "userId": "05470878283248435968"
     },
     "user_tz": -540
    },
    "id": "yvhMd8WtCr8a",
    "outputId": "c77d7ca1-29cc-4eb4-e335-e7b22b333042"
   },
   "outputs": [],
   "source": [
    "# Training\n",
    "\n",
    "    #---- your code here ----\n",
    "\n",
    "print(\"Fitting results: \", 'b = ', lin_reg_poly.intercept_, 'w = ', lin_reg_poly.coef_)\n",
    "\n",
    "# Prediction\n",
    "\n",
    "    #---- your code here ----\n",
    "\n",
    "print(\"Testing results: \", 'score = ', lin_reg_poly.score(test_x_s, test_y))\n",
    "\n",
    "# Visualization\n",
    "plt.figure(figsize=(10, 4))\n",
    "plt.subplot(1,2,1)\n",
    "plt.scatter(test_x, test_y, color ='k')\n",
    "plt.scatter(test_x, test_y_pred,color='r')\n",
    "plt.title('Testing data - Linear'); plt.xlim(0,260); plt.ylim(0,550000);\n",
    "\n",
    "plt.subplot(1,2,2)\n",
    "plt.scatter(test_x[:,0], test_y, color ='k')\n",
    "plt.scatter(test_x[:,0], test_y_pred_poly, color ='b')\n",
    "plt.title('Testing data - Polynomial'); plt.xlim(0,260); plt.ylim(0,550000);"
   ]
  },
  {
   "cell_type": "markdown",
   "metadata": {
    "id": "_XCR25DaOebO"
   },
   "source": [
    "## Multiple Regression"
   ]
  },
  {
   "cell_type": "code",
   "execution_count": null,
   "metadata": {
    "id": "TsSoGs7uHYOi"
   },
   "outputs": [],
   "source": [
    "# for 2017q1\n",
    "df_2017q1=df[df['yyyyqrt(거래년도 분기별)']=='2017Q1']"
   ]
  },
  {
   "cell_type": "code",
   "execution_count": null,
   "metadata": {},
   "outputs": [],
   "source": [
    "df_2017q1"
   ]
  },
  {
   "cell_type": "code",
   "execution_count": null,
   "metadata": {
    "colab": {
     "base_uri": "https://localhost:8080/",
     "height": 455
    },
    "executionInfo": {
     "elapsed": 582,
     "status": "ok",
     "timestamp": 1619841684149,
     "user": {
      "displayName": "HS Han",
      "photoUrl": "",
      "userId": "05470878283248435968"
     },
     "user_tz": -540
    },
    "id": "iux6Qj8yHYOi",
    "outputId": "36156b38-5139-42eb-8edc-280a3fa3963e",
    "scrolled": false
   },
   "outputs": [],
   "source": [
    "df_2017q1_mf=df_2017q1.copy()\n",
    "col=df_2017q1.columns\n",
    "for c in col:\n",
    "    if(df_2017q1_mf[c].dtypes == 'object'):\n",
    "        df_2017q1_mf=df_2017q1_mf.drop(c,axis=1)\n",
    "        continue\n",
    "    if(all(round(df_2017q1_mf[c].mean(),6)==round(df_2017q1_mf[c],6) )):\n",
    "        df_2017q1_mf=df_2017q1_mf.drop(c,axis=1)\n",
    "df_2017q1_mf['Yongpae(용적률)']=df_2017q1_mf['Yongpae(용적률)'].replace(np.nan,df_2017q1_mf['Yongpae(용적률)'].mean())\n",
    "df_2017q1_mf['Gunpae(건폐율)']=df_2017q1_mf['Gunpae(건폐율)'].replace(np.nan,df_2017q1_mf['Gunpae(건폐율)'].mean())\n",
    "df_2017q1_mf"
   ]
  },
  {
   "cell_type": "code",
   "execution_count": null,
   "metadata": {
    "colab": {
     "base_uri": "https://localhost:8080/"
    },
    "executionInfo": {
     "elapsed": 70358,
     "status": "ok",
     "timestamp": 1619832957387,
     "user": {
      "displayName": "HS Han",
      "photoUrl": "",
      "userId": "05470878283248435968"
     },
     "user_tz": -540
    },
    "id": "FOCnLDtRHYOj",
    "outputId": "fff07030-fe79-4893-dd95-fa02b2f21edc"
   },
   "outputs": [],
   "source": [
    "    #---- your code here ----\n",
    "\n",
    "\n",
    "print(\"X_train.shape =\", X_train.shape)\n",
    "print(\"y_train.shape =\", y_train.shape)\n",
    "\n",
    "print(\"X_test.shape =\", X_test.shape)\n",
    "print(\"y_test.shape =\", y_test.shape)"
   ]
  },
  {
   "cell_type": "code",
   "execution_count": null,
   "metadata": {
    "colab": {
     "base_uri": "https://localhost:8080/"
    },
    "executionInfo": {
     "elapsed": 70337,
     "status": "ok",
     "timestamp": 1619832957387,
     "user": {
      "displayName": "HS Han",
      "photoUrl": "",
      "userId": "05470878283248435968"
     },
     "user_tz": -540
    },
    "id": "-Kk-XBoVHYOj",
    "outputId": "d4c04243-778e-4bb2-b8d5-29abff90da3d"
   },
   "outputs": [],
   "source": [
    "# create object \n",
    "    #---- your code here ----\n",
    "\n",
    "# train\n",
    "    #---- your code here ----\n",
    "\n",
    "# check coefficients and intercept\n",
    "print(\"coef_:\", mul_reg.coef_)             # w\n",
    "print(\"intercept_:\", mul_reg.intercept_)   # b"
   ]
  },
  {
   "cell_type": "code",
   "execution_count": null,
   "metadata": {
    "colab": {
     "base_uri": "https://localhost:8080/"
    },
    "executionInfo": {
     "elapsed": 70317,
     "status": "ok",
     "timestamp": 1619832957388,
     "user": {
      "displayName": "HS Han",
      "photoUrl": "",
      "userId": "05470878283248435968"
     },
     "user_tz": -540
    },
    "id": "Yv6uVAGFHYOk",
    "outputId": "8380d6bb-26d9-4167-b2d1-22cb72d41274"
   },
   "outputs": [],
   "source": [
    "# evaluation\n",
    "print(\"Training set score: {:.2f}\".format(mul_reg.score(X_train, y_train)))\n",
    "print(\"Test set score: {:.2f}\".format(mul_reg.score(X_test, y_test)))"
   ]
  },
  {
   "cell_type": "markdown",
   "metadata": {
    "id": "pbyqDmxNOvSm"
   },
   "source": [
    "## Lasso ($L_1$ regularization)"
   ]
  },
  {
   "cell_type": "code",
   "execution_count": null,
   "metadata": {
    "colab": {
     "base_uri": "https://localhost:8080/"
    },
    "executionInfo": {
     "elapsed": 976,
     "status": "ok",
     "timestamp": 1619856563643,
     "user": {
      "displayName": "HS Han",
      "photoUrl": "",
      "userId": "05470878283248435968"
     },
     "user_tz": -540
    },
    "id": "vRdRK8vr0xbV",
    "outputId": "b2aff933-c01f-46f8-8399-b9ae209a0523"
   },
   "outputs": [],
   "source": [
    "from sklearn.linear_model import Lasso\n",
    "    #---- your code here ----\n",
    "    \n",
    "    \n",
    "print(\"X_train.shape =\", X_train.shape)\n",
    "print(\"y_train.shape =\", y_train.shape)\n",
    "print(\"X_test.shape =\", X_test.shape)\n",
    "print(\"y_test.shape =\", y_test.shape)"
   ]
  },
  {
   "cell_type": "code",
   "execution_count": null,
   "metadata": {
    "colab": {
     "base_uri": "https://localhost:8080/"
    },
    "executionInfo": {
     "elapsed": 942,
     "status": "ok",
     "timestamp": 1619856592518,
     "user": {
      "displayName": "HS Han",
      "photoUrl": "",
      "userId": "05470878283248435968"
     },
     "user_tz": -540
    },
    "id": "9zSMK1TlHYOt",
    "outputId": "19198264-c004-4e70-9ff6-642f1863b693"
   },
   "outputs": [],
   "source": [
    "    #---- your code here ----\n",
    "\n",
    "print(\"Training score: {:.2f}\".format(lasso.score(X_train, y_train)))\n",
    "print(\"Test score: {:.2f}\".format(lasso.score(X_test, y_test)))\n",
    "print(\"Number of features used:\", np.sum(lasso.coef_ != 0))"
   ]
  },
  {
   "cell_type": "code",
   "execution_count": null,
   "metadata": {
    "colab": {
     "base_uri": "https://localhost:8080/"
    },
    "executionInfo": {
     "elapsed": 810,
     "status": "ok",
     "timestamp": 1619856609617,
     "user": {
      "displayName": "HS Han",
      "photoUrl": "",
      "userId": "05470878283248435968"
     },
     "user_tz": -540
    },
    "id": "eu2t9W2zHYOt",
    "outputId": "661a2af6-8566-4cb1-c397-e980cb0da5ee"
   },
   "outputs": [],
   "source": [
    "    #---- your code here ----\n",
    "    \n",
    "print(\"Training score: {:.2f}\".format(lasso.score(X_train, y_train)))\n",
    "print(\"Test score: {:.2f}\".format(lasso.score(X_test, y_test)))\n",
    "print(\"Number of features used:\", np.sum(lasso.coef_ != 0))"
   ]
  },
  {
   "cell_type": "markdown",
   "metadata": {
    "id": "mhn7pekP2mWA"
   },
   "source": [
    "## Ridge ($L_2$ regularization)"
   ]
  },
  {
   "cell_type": "code",
   "execution_count": null,
   "metadata": {
    "id": "3A7TF2t0HYOu"
   },
   "outputs": [],
   "source": [
    "from sklearn.linear_model import Ridge"
   ]
  },
  {
   "cell_type": "code",
   "execution_count": null,
   "metadata": {
    "colab": {
     "base_uri": "https://localhost:8080/"
    },
    "executionInfo": {
     "elapsed": 875,
     "status": "ok",
     "timestamp": 1619854565217,
     "user": {
      "displayName": "HS Han",
      "photoUrl": "",
      "userId": "05470878283248435968"
     },
     "user_tz": -540
    },
    "id": "iCsMdMP0IMMs",
    "outputId": "a1aa195c-b333-4c55-c598-541df874c7fe"
   },
   "outputs": [],
   "source": [
    "    #---- your code here ----\n",
    "\n",
    "print(\"ridge.coef_: {}\".format(ridge.coef_))             # w\n",
    "print(\"ridge.intercept_: {}\".format(ridge.intercept_))   # b"
   ]
  },
  {
   "cell_type": "code",
   "execution_count": null,
   "metadata": {
    "colab": {
     "base_uri": "https://localhost:8080/"
    },
    "executionInfo": {
     "elapsed": 4805,
     "status": "ok",
     "timestamp": 1619854571958,
     "user": {
      "displayName": "HS Han",
      "photoUrl": "",
      "userId": "05470878283248435968"
     },
     "user_tz": -540
    },
    "id": "okASdK_tIMPF",
    "outputId": "f0bb72e4-2e5f-4a06-b80a-c1d6a73dd0cb"
   },
   "outputs": [],
   "source": [
    "print(\"Training score: {:.2f}\".format(ridge.score(X_train, y_train)))\n",
    "print(\"Test score: {:.2f}\".format(ridge.score(X_test, y_test)))"
   ]
  },
  {
   "cell_type": "markdown",
   "metadata": {},
   "source": [
    "# Multiple regression with whole data - not included in ppt"
   ]
  },
  {
   "cell_type": "code",
   "execution_count": null,
   "metadata": {
    "colab": {
     "base_uri": "https://localhost:8080/",
     "height": 455
    },
    "executionInfo": {
     "elapsed": 789,
     "status": "ok",
     "timestamp": 1619871483563,
     "user": {
      "displayName": "HS Han",
      "photoUrl": "",
      "userId": "05470878283248435968"
     },
     "user_tz": -540
    },
    "id": "KNpU3oPDHYOn",
    "outputId": "5c36a785-371c-4923-e8ce-63a65b15f556",
    "scrolled": true
   },
   "outputs": [],
   "source": [
    "#   multiple regression for whole data\n",
    "\n",
    "df_multi=df.copy()\n",
    "col=df.columns\n",
    "for c in col:\n",
    "    #print(df[c].dtypes)\n",
    "    if(df_multi[c].dtypes == 'object'):\n",
    "        df_multi=df_multi.drop(c,axis=1)\n",
    "        continue\n",
    "#columns=df_multi.columns\n",
    "#for c in columns:\n",
    "    #print(df_2017q1_1f[c].dtypes)\n",
    "df_multi['Yongpae(용적률)']=df_multi['Yongpae(용적률)'].replace(np.nan,df_multi['Yongpae(용적률)'].mean())\n",
    "df_multi['Gunpae(건폐율)']=df_multi['Gunpae(건폐율)'].replace(np.nan,df_multi['Gunpae(건폐율)'].mean())\n",
    "df_multi\n"
   ]
  },
  {
   "cell_type": "code",
   "execution_count": null,
   "metadata": {
    "colab": {
     "base_uri": "https://localhost:8080/"
    },
    "executionInfo": {
     "elapsed": 70199,
     "status": "ok",
     "timestamp": 1619832957393,
     "user": {
      "displayName": "HS Han",
      "photoUrl": "",
      "userId": "05470878283248435968"
     },
     "user_tz": -540
    },
    "id": "b1oOfh9WHYOn",
    "outputId": "b331e675-18cd-48c1-d7f8-571730cc498e"
   },
   "outputs": [],
   "source": [
    "X_train, X_test, y_train, y_test = train_test_split( df_multi.iloc[:,1:], df_multi.iloc[:,0],test_size = 0.3, random_state=0)\n",
    "print(\"X_train.shape =\", X_train.shape)\n",
    "print(\"y_train.shape =\", y_train.shape)\n",
    "print(\"X_test.shape =\", X_test.shape)\n",
    "print(\"y_test.shape =\", y_test.shape)"
   ]
  },
  {
   "cell_type": "code",
   "execution_count": null,
   "metadata": {
    "colab": {
     "base_uri": "https://localhost:8080/"
    },
    "executionInfo": {
     "elapsed": 70493,
     "status": "ok",
     "timestamp": 1619832957710,
     "user": {
      "displayName": "HS Han",
      "photoUrl": "",
      "userId": "05470878283248435968"
     },
     "user_tz": -540
    },
    "id": "eH_UQpoHHYOp",
    "outputId": "3e512443-edf0-49d4-c226-aa41c2d6f011"
   },
   "outputs": [],
   "source": [
    "# create object \n",
    "lr = LinearRegression(normalize=True)\n",
    "\n",
    "# train\n",
    "lr.fit(X_train, y_train)\n",
    "\n",
    "# the above two statements can be combined as the next line\n",
    "# lr = LinearRegression().fit(X_train, y_train)\n",
    "\n",
    "# check coefficients and intercept\n",
    "print(\"lr.coef_:\", lr.coef_)             # w\n",
    "print(\"lr.intercept_:\", lr.intercept_)   # b"
   ]
  },
  {
   "cell_type": "code",
   "execution_count": null,
   "metadata": {
    "colab": {
     "base_uri": "https://localhost:8080/"
    },
    "executionInfo": {
     "elapsed": 70472,
     "status": "ok",
     "timestamp": 1619832957710,
     "user": {
      "displayName": "HS Han",
      "photoUrl": "",
      "userId": "05470878283248435968"
     },
     "user_tz": -540
    },
    "id": "-HghgrC_HYOq",
    "outputId": "165a64d5-b505-4018-e054-81c0be108d13"
   },
   "outputs": [],
   "source": [
    "# evaluation\n",
    "print(\"Training set score: {:.2f}\".format(lr.score(X_train, y_train)))\n",
    "print(\"Test set score: {:.2f}\".format(lr.score(X_test, y_test)))\n"
   ]
  }
 ],
 "metadata": {
  "colab": {
   "collapsed_sections": [
    "daFEnhhCHw5K",
    "XzSrIZN9H7lw",
    "hUUocr79IQSg"
   ],
   "name": "Week10_SourceCode.ipynb",
   "provenance": [],
   "toc_visible": true
  },
  "kernelspec": {
   "display_name": "Python 3",
   "language": "python",
   "name": "python3"
  },
  "language_info": {
   "codemirror_mode": {
    "name": "ipython",
    "version": 3
   },
   "file_extension": ".py",
   "mimetype": "text/x-python",
   "name": "python",
   "nbconvert_exporter": "python",
   "pygments_lexer": "ipython3",
   "version": "3.9.1"
  }
 },
 "nbformat": 4,
 "nbformat_minor": 1
}
